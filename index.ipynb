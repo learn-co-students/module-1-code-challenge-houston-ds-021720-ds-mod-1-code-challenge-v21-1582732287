{
 "cells": [
  {
   "cell_type": "markdown",
   "metadata": {},
   "source": [
    "# Module 1 Code Challenge"
   ]
  },
  {
   "cell_type": "markdown",
   "metadata": {},
   "source": [
    "This code challenge is designed to test your understanding of the Module 1 material. It covers:\n",
    "\n",
    "- Pandas\n",
    "- Data Visualization\n",
    "- Exploring Statistical Data\n",
    "- Python Data Structures\n",
    "\n",
    "_Read the instructions carefully._ You will be asked both to write code and to respond to a few short answer questions.\n",
    "\n",
    "### Note on the short answer questions\n",
    "\n",
    "For the short answer questions _please use your own words_. The expectation is that you have **not** copied and pasted from an external source, even if you consult another source to help craft your response. While the short answer questions are not necessarily being assessed on grammatical correctness or sentence structure, you should do your best to communicate yourself clearly."
   ]
  },
  {
   "cell_type": "markdown",
   "metadata": {},
   "source": [
    "---\n",
    "## Part 1: Pandas [Suggested Time: 15 minutes]\n",
    "---"
   ]
  },
  {
   "cell_type": "markdown",
   "metadata": {},
   "source": [
    "In this section you will be doing some preprocessing for a dataset for the videogame [FIFA19](https://www.kaggle.com/karangadiya/fifa19). The dataset contains both data for the game as well as information about the players' real life careers."
   ]
  },
  {
   "cell_type": "code",
   "execution_count": 1,
   "metadata": {},
   "outputs": [],
   "source": [
    "# Run this cell without changes\n",
    "\n",
    "import pandas as pd\n",
    "import numpy as np\n",
    "import warnings\n",
    "warnings.filterwarnings('ignore')"
   ]
  },
  {
   "cell_type": "markdown",
   "metadata": {},
   "source": [
    "### 1.1) Read the CSV file into a pandas DataFrame\n",
    "\n",
    "The data you'll be working with is in a file called `'./data/fifa.csv'`. Use your knowledge of pandas to create a new DataFrame, called `df`, using the data from this CSV file. \n",
    "\n",
    "Check the contents of the first few rows of your DataFrame, then show the size of the DataFrame. "
   ]
  },
  {
   "cell_type": "code",
   "execution_count": 2,
   "metadata": {},
   "outputs": [],
   "source": [
    "# Replace None with appropriate code\n",
    "df = pd.read_csv('./data/fifa.csv')"
   ]
  },
  {
   "cell_type": "code",
   "execution_count": 3,
   "metadata": {},
   "outputs": [
    {
     "data": {
      "text/html": [
       "<div>\n",
       "<style scoped>\n",
       "    .dataframe tbody tr th:only-of-type {\n",
       "        vertical-align: middle;\n",
       "    }\n",
       "\n",
       "    .dataframe tbody tr th {\n",
       "        vertical-align: top;\n",
       "    }\n",
       "\n",
       "    .dataframe thead th {\n",
       "        text-align: right;\n",
       "    }\n",
       "</style>\n",
       "<table border=\"1\" class=\"dataframe\">\n",
       "  <thead>\n",
       "    <tr style=\"text-align: right;\">\n",
       "      <th></th>\n",
       "      <th>ID</th>\n",
       "      <th>Name</th>\n",
       "      <th>Age</th>\n",
       "      <th>Photo</th>\n",
       "      <th>Nationality</th>\n",
       "      <th>Flag</th>\n",
       "      <th>Overall</th>\n",
       "      <th>Potential</th>\n",
       "      <th>Club</th>\n",
       "      <th>Club Logo</th>\n",
       "      <th>...</th>\n",
       "      <th>Composure</th>\n",
       "      <th>Marking</th>\n",
       "      <th>StandingTackle</th>\n",
       "      <th>SlidingTackle</th>\n",
       "      <th>GKDiving</th>\n",
       "      <th>GKHandling</th>\n",
       "      <th>GKKicking</th>\n",
       "      <th>GKPositioning</th>\n",
       "      <th>GKReflexes</th>\n",
       "      <th>Release Clause</th>\n",
       "    </tr>\n",
       "  </thead>\n",
       "  <tbody>\n",
       "    <tr>\n",
       "      <td>0</td>\n",
       "      <td>158023</td>\n",
       "      <td>L. Messi</td>\n",
       "      <td>31</td>\n",
       "      <td>https://cdn.sofifa.org/players/4/19/158023.png</td>\n",
       "      <td>Argentina</td>\n",
       "      <td>https://cdn.sofifa.org/flags/52.png</td>\n",
       "      <td>94</td>\n",
       "      <td>94</td>\n",
       "      <td>FC Barcelona</td>\n",
       "      <td>https://cdn.sofifa.org/teams/2/light/241.png</td>\n",
       "      <td>...</td>\n",
       "      <td>96.0</td>\n",
       "      <td>33.0</td>\n",
       "      <td>28.0</td>\n",
       "      <td>26.0</td>\n",
       "      <td>6.0</td>\n",
       "      <td>11.0</td>\n",
       "      <td>15.0</td>\n",
       "      <td>14.0</td>\n",
       "      <td>8.0</td>\n",
       "      <td>226500.0</td>\n",
       "    </tr>\n",
       "    <tr>\n",
       "      <td>1</td>\n",
       "      <td>20801</td>\n",
       "      <td>Cristiano Ronaldo</td>\n",
       "      <td>33</td>\n",
       "      <td>https://cdn.sofifa.org/players/4/19/20801.png</td>\n",
       "      <td>Portugal</td>\n",
       "      <td>https://cdn.sofifa.org/flags/38.png</td>\n",
       "      <td>94</td>\n",
       "      <td>94</td>\n",
       "      <td>Juventus</td>\n",
       "      <td>https://cdn.sofifa.org/teams/2/light/45.png</td>\n",
       "      <td>...</td>\n",
       "      <td>95.0</td>\n",
       "      <td>28.0</td>\n",
       "      <td>31.0</td>\n",
       "      <td>23.0</td>\n",
       "      <td>7.0</td>\n",
       "      <td>11.0</td>\n",
       "      <td>15.0</td>\n",
       "      <td>14.0</td>\n",
       "      <td>11.0</td>\n",
       "      <td>127100.0</td>\n",
       "    </tr>\n",
       "    <tr>\n",
       "      <td>2</td>\n",
       "      <td>190871</td>\n",
       "      <td>Neymar Jr</td>\n",
       "      <td>26</td>\n",
       "      <td>https://cdn.sofifa.org/players/4/19/190871.png</td>\n",
       "      <td>Brazil</td>\n",
       "      <td>https://cdn.sofifa.org/flags/54.png</td>\n",
       "      <td>92</td>\n",
       "      <td>93</td>\n",
       "      <td>Paris Saint-Germain</td>\n",
       "      <td>https://cdn.sofifa.org/teams/2/light/73.png</td>\n",
       "      <td>...</td>\n",
       "      <td>94.0</td>\n",
       "      <td>27.0</td>\n",
       "      <td>24.0</td>\n",
       "      <td>33.0</td>\n",
       "      <td>9.0</td>\n",
       "      <td>9.0</td>\n",
       "      <td>15.0</td>\n",
       "      <td>15.0</td>\n",
       "      <td>11.0</td>\n",
       "      <td>228100.0</td>\n",
       "    </tr>\n",
       "    <tr>\n",
       "      <td>3</td>\n",
       "      <td>193080</td>\n",
       "      <td>De Gea</td>\n",
       "      <td>27</td>\n",
       "      <td>https://cdn.sofifa.org/players/4/19/193080.png</td>\n",
       "      <td>Spain</td>\n",
       "      <td>https://cdn.sofifa.org/flags/45.png</td>\n",
       "      <td>91</td>\n",
       "      <td>93</td>\n",
       "      <td>Manchester United</td>\n",
       "      <td>https://cdn.sofifa.org/teams/2/light/11.png</td>\n",
       "      <td>...</td>\n",
       "      <td>68.0</td>\n",
       "      <td>15.0</td>\n",
       "      <td>21.0</td>\n",
       "      <td>13.0</td>\n",
       "      <td>90.0</td>\n",
       "      <td>85.0</td>\n",
       "      <td>87.0</td>\n",
       "      <td>88.0</td>\n",
       "      <td>94.0</td>\n",
       "      <td>138600.0</td>\n",
       "    </tr>\n",
       "    <tr>\n",
       "      <td>4</td>\n",
       "      <td>192985</td>\n",
       "      <td>K. De Bruyne</td>\n",
       "      <td>27</td>\n",
       "      <td>https://cdn.sofifa.org/players/4/19/192985.png</td>\n",
       "      <td>Belgium</td>\n",
       "      <td>https://cdn.sofifa.org/flags/7.png</td>\n",
       "      <td>91</td>\n",
       "      <td>92</td>\n",
       "      <td>Manchester City</td>\n",
       "      <td>https://cdn.sofifa.org/teams/2/light/10.png</td>\n",
       "      <td>...</td>\n",
       "      <td>88.0</td>\n",
       "      <td>68.0</td>\n",
       "      <td>58.0</td>\n",
       "      <td>51.0</td>\n",
       "      <td>15.0</td>\n",
       "      <td>13.0</td>\n",
       "      <td>5.0</td>\n",
       "      <td>10.0</td>\n",
       "      <td>13.0</td>\n",
       "      <td>196400.0</td>\n",
       "    </tr>\n",
       "  </tbody>\n",
       "</table>\n",
       "<p>5 rows × 88 columns</p>\n",
       "</div>"
      ],
      "text/plain": [
       "       ID               Name  Age  \\\n",
       "0  158023           L. Messi   31   \n",
       "1   20801  Cristiano Ronaldo   33   \n",
       "2  190871          Neymar Jr   26   \n",
       "3  193080             De Gea   27   \n",
       "4  192985       K. De Bruyne   27   \n",
       "\n",
       "                                            Photo Nationality  \\\n",
       "0  https://cdn.sofifa.org/players/4/19/158023.png   Argentina   \n",
       "1   https://cdn.sofifa.org/players/4/19/20801.png    Portugal   \n",
       "2  https://cdn.sofifa.org/players/4/19/190871.png      Brazil   \n",
       "3  https://cdn.sofifa.org/players/4/19/193080.png       Spain   \n",
       "4  https://cdn.sofifa.org/players/4/19/192985.png     Belgium   \n",
       "\n",
       "                                  Flag  Overall  Potential  \\\n",
       "0  https://cdn.sofifa.org/flags/52.png       94         94   \n",
       "1  https://cdn.sofifa.org/flags/38.png       94         94   \n",
       "2  https://cdn.sofifa.org/flags/54.png       92         93   \n",
       "3  https://cdn.sofifa.org/flags/45.png       91         93   \n",
       "4   https://cdn.sofifa.org/flags/7.png       91         92   \n",
       "\n",
       "                  Club                                     Club Logo  ...  \\\n",
       "0         FC Barcelona  https://cdn.sofifa.org/teams/2/light/241.png  ...   \n",
       "1             Juventus   https://cdn.sofifa.org/teams/2/light/45.png  ...   \n",
       "2  Paris Saint-Germain   https://cdn.sofifa.org/teams/2/light/73.png  ...   \n",
       "3    Manchester United   https://cdn.sofifa.org/teams/2/light/11.png  ...   \n",
       "4      Manchester City   https://cdn.sofifa.org/teams/2/light/10.png  ...   \n",
       "\n",
       "  Composure Marking  StandingTackle SlidingTackle  GKDiving  GKHandling  \\\n",
       "0      96.0    33.0            28.0          26.0       6.0        11.0   \n",
       "1      95.0    28.0            31.0          23.0       7.0        11.0   \n",
       "2      94.0    27.0            24.0          33.0       9.0         9.0   \n",
       "3      68.0    15.0            21.0          13.0      90.0        85.0   \n",
       "4      88.0    68.0            58.0          51.0      15.0        13.0   \n",
       "\n",
       "   GKKicking GKPositioning GKReflexes Release Clause  \n",
       "0       15.0          14.0        8.0       226500.0  \n",
       "1       15.0          14.0       11.0       127100.0  \n",
       "2       15.0          15.0       11.0       228100.0  \n",
       "3       87.0          88.0       94.0       138600.0  \n",
       "4        5.0          10.0       13.0       196400.0  \n",
       "\n",
       "[5 rows x 88 columns]"
      ]
     },
     "execution_count": 3,
     "metadata": {},
     "output_type": "execute_result"
    }
   ],
   "source": [
    "# Code here to check the first few rows of the DataFrame\n",
    "df.head()"
   ]
  },
  {
   "cell_type": "code",
   "execution_count": 4,
   "metadata": {},
   "outputs": [
    {
     "data": {
      "text/plain": [
       "1602216"
      ]
     },
     "execution_count": 4,
     "metadata": {},
     "output_type": "execute_result"
    }
   ],
   "source": [
    "# Code here to see the size of the DataFrame\n",
    "df.size"
   ]
  },
  {
   "cell_type": "markdown",
   "metadata": {},
   "source": [
    "### 1.2) Drop rows with missing values for `'Release Clause'`\n",
    "    \n",
    "Drop rows for which \"Release Clause\" is none or not given. This is part of a soccer player's contract dealing with being bought out by another team. After you have dropped them, see how many rows are remaining."
   ]
  },
  {
   "cell_type": "code",
   "execution_count": 6,
   "metadata": {},
   "outputs": [],
   "source": [
    "# Code here to drop rows with missing values for 'Release Clause'\n",
    "df.dropna(subset=['Release Clause'], inplace=True)"
   ]
  },
  {
   "cell_type": "code",
   "execution_count": 9,
   "metadata": {},
   "outputs": [
    {
     "data": {
      "text/plain": [
       "<bound method DataFrame.info of            ID                Name  Age  \\\n",
       "0      158023            L. Messi   31   \n",
       "1       20801   Cristiano Ronaldo   33   \n",
       "2      190871           Neymar Jr   26   \n",
       "3      193080              De Gea   27   \n",
       "4      192985        K. De Bruyne   27   \n",
       "...       ...                 ...  ...   \n",
       "18202  238813        J. Lundstram   19   \n",
       "18203  243165  N. Christoffersson   19   \n",
       "18204  241638           B. Worman   16   \n",
       "18205  246268      D. Walker-Rice   17   \n",
       "18206  246269           G. Nugent   16   \n",
       "\n",
       "                                                Photo Nationality  \\\n",
       "0      https://cdn.sofifa.org/players/4/19/158023.png   Argentina   \n",
       "1       https://cdn.sofifa.org/players/4/19/20801.png    Portugal   \n",
       "2      https://cdn.sofifa.org/players/4/19/190871.png      Brazil   \n",
       "3      https://cdn.sofifa.org/players/4/19/193080.png       Spain   \n",
       "4      https://cdn.sofifa.org/players/4/19/192985.png     Belgium   \n",
       "...                                               ...         ...   \n",
       "18202  https://cdn.sofifa.org/players/4/19/238813.png     England   \n",
       "18203  https://cdn.sofifa.org/players/4/19/243165.png      Sweden   \n",
       "18204  https://cdn.sofifa.org/players/4/19/241638.png     England   \n",
       "18205  https://cdn.sofifa.org/players/4/19/246268.png     England   \n",
       "18206  https://cdn.sofifa.org/players/4/19/246269.png     England   \n",
       "\n",
       "                                      Flag  Overall  Potential  \\\n",
       "0      https://cdn.sofifa.org/flags/52.png       94         94   \n",
       "1      https://cdn.sofifa.org/flags/38.png       94         94   \n",
       "2      https://cdn.sofifa.org/flags/54.png       92         93   \n",
       "3      https://cdn.sofifa.org/flags/45.png       91         93   \n",
       "4       https://cdn.sofifa.org/flags/7.png       91         92   \n",
       "...                                    ...      ...        ...   \n",
       "18202  https://cdn.sofifa.org/flags/14.png       47         65   \n",
       "18203  https://cdn.sofifa.org/flags/46.png       47         63   \n",
       "18204  https://cdn.sofifa.org/flags/14.png       47         67   \n",
       "18205  https://cdn.sofifa.org/flags/14.png       47         66   \n",
       "18206  https://cdn.sofifa.org/flags/14.png       46         66   \n",
       "\n",
       "                      Club                                       Club Logo  \\\n",
       "0             FC Barcelona    https://cdn.sofifa.org/teams/2/light/241.png   \n",
       "1                 Juventus     https://cdn.sofifa.org/teams/2/light/45.png   \n",
       "2      Paris Saint-Germain     https://cdn.sofifa.org/teams/2/light/73.png   \n",
       "3        Manchester United     https://cdn.sofifa.org/teams/2/light/11.png   \n",
       "4          Manchester City     https://cdn.sofifa.org/teams/2/light/10.png   \n",
       "...                    ...                                             ...   \n",
       "18202      Crewe Alexandra    https://cdn.sofifa.org/teams/2/light/121.png   \n",
       "18203       Trelleborgs FF    https://cdn.sofifa.org/teams/2/light/703.png   \n",
       "18204     Cambridge United   https://cdn.sofifa.org/teams/2/light/1944.png   \n",
       "18205      Tranmere Rovers  https://cdn.sofifa.org/teams/2/light/15048.png   \n",
       "18206      Tranmere Rovers  https://cdn.sofifa.org/teams/2/light/15048.png   \n",
       "\n",
       "       ... Composure Marking  StandingTackle SlidingTackle  GKDiving  \\\n",
       "0      ...      96.0    33.0            28.0          26.0       6.0   \n",
       "1      ...      95.0    28.0            31.0          23.0       7.0   \n",
       "2      ...      94.0    27.0            24.0          33.0       9.0   \n",
       "3      ...      68.0    15.0            21.0          13.0      90.0   \n",
       "4      ...      88.0    68.0            58.0          51.0      15.0   \n",
       "...    ...       ...     ...             ...           ...       ...   \n",
       "18202  ...      45.0    40.0            48.0          47.0      10.0   \n",
       "18203  ...      42.0    22.0            15.0          19.0      10.0   \n",
       "18204  ...      41.0    32.0            13.0          11.0       6.0   \n",
       "18205  ...      46.0    20.0            25.0          27.0      14.0   \n",
       "18206  ...      43.0    40.0            43.0          50.0      10.0   \n",
       "\n",
       "       GKHandling  GKKicking GKPositioning GKReflexes Release Clause  \n",
       "0            11.0       15.0          14.0        8.0       226500.0  \n",
       "1            11.0       15.0          14.0       11.0       127100.0  \n",
       "2             9.0       15.0          15.0       11.0       228100.0  \n",
       "3            85.0       87.0          88.0       94.0       138600.0  \n",
       "4            13.0        5.0          10.0       13.0       196400.0  \n",
       "...           ...        ...           ...        ...            ...  \n",
       "18202        13.0        7.0           8.0        9.0       143000.0  \n",
       "18203         9.0        9.0           5.0       12.0       113000.0  \n",
       "18204         5.0       10.0           6.0       13.0       165000.0  \n",
       "18205         6.0       14.0           8.0        9.0       143000.0  \n",
       "18206        15.0        9.0          12.0        9.0       165000.0  \n",
       "\n",
       "[16643 rows x 88 columns]>"
      ]
     },
     "execution_count": 9,
     "metadata": {},
     "output_type": "execute_result"
    }
   ],
   "source": [
    "# Code here to check how many rows are left \n",
    "df.info\n",
    "# Rows left: 16643 rows"
   ]
  },
  {
   "cell_type": "markdown",
   "metadata": {},
   "source": [
    "### 1.3) Convert the `'Release Clause'` Price from Euros to Dollars\n",
    "\n",
    "Now that there are no missing values, we can change the values in the `'Release Clause'` column from Euro to Dollar amounts.\n",
    "\n",
    "Assume the current exchange rate is `1 Euro = 1.2 Dollars`"
   ]
  },
  {
   "cell_type": "code",
   "execution_count": 15,
   "metadata": {},
   "outputs": [
    {
     "data": {
      "text/plain": [
       "0        271800.0\n",
       "1        152520.0\n",
       "2        273720.0\n",
       "3        166320.0\n",
       "4        235680.0\n",
       "           ...   \n",
       "18202    171600.0\n",
       "18203    135600.0\n",
       "18204    198000.0\n",
       "18205    171600.0\n",
       "18206    198000.0\n",
       "Name: Release Clause, Length: 16643, dtype: float64"
      ]
     },
     "execution_count": 15,
     "metadata": {},
     "output_type": "execute_result"
    }
   ],
   "source": [
    "# Code here to convert the column of euros to dollars\n",
    "ex = df['Release Clause'].apply(lambda x: x*1.2)\n",
    "ex"
   ]
  },
  {
   "cell_type": "markdown",
   "metadata": {},
   "source": [
    "---\n",
    "## Part 2: Data Visualization [Suggested Time: 20 minutes]\n",
    "---"
   ]
  },
  {
   "cell_type": "markdown",
   "metadata": {},
   "source": [
    "Continuing to use the same FIFA dataset, plot data using whichever plotting library you are most comfortable with."
   ]
  },
  {
   "cell_type": "code",
   "execution_count": 16,
   "metadata": {},
   "outputs": [],
   "source": [
    "# Run this cell without changes\n",
    "\n",
    "import matplotlib.pyplot as plt\n",
    "import seaborn as sns\n",
    "%matplotlib inline"
   ]
  },
  {
   "cell_type": "markdown",
   "metadata": {},
   "source": [
    "### 2.1) Find the top 10 countries with the most players (using the `'Nationality'` column). Create a bar chart showing the number of players from those 10 countries.\n",
    "\n",
    "Don't forget to add a **title** and **x axis label** to your charts.\n",
    "\n",
    "If you are unable to find the top 10 countries but want the chance to demonstrate your plotting skills use the following dummy data to create a bar chart: \n",
    "\n",
    "```\n",
    "Country Name  | Num Players\n",
    "============  | ===========\n",
    "Country A     | 100\n",
    "Country B     | 60\n",
    "Country C     | 125\n",
    "Country D     | 89\n",
    "```"
   ]
  },
  {
   "cell_type": "code",
   "execution_count": 29,
   "metadata": {},
   "outputs": [
    {
     "data": {
      "text/html": [
       "<div>\n",
       "<style scoped>\n",
       "    .dataframe tbody tr th:only-of-type {\n",
       "        vertical-align: middle;\n",
       "    }\n",
       "\n",
       "    .dataframe tbody tr th {\n",
       "        vertical-align: top;\n",
       "    }\n",
       "\n",
       "    .dataframe thead th {\n",
       "        text-align: right;\n",
       "    }\n",
       "</style>\n",
       "<table border=\"1\" class=\"dataframe\">\n",
       "  <thead>\n",
       "    <tr style=\"text-align: right;\">\n",
       "      <th></th>\n",
       "      <th>ID</th>\n",
       "      <th>Name</th>\n",
       "      <th>Age</th>\n",
       "      <th>Photo</th>\n",
       "      <th>Nationality</th>\n",
       "      <th>Flag</th>\n",
       "      <th>Overall</th>\n",
       "      <th>Potential</th>\n",
       "      <th>Club</th>\n",
       "      <th>Club Logo</th>\n",
       "      <th>...</th>\n",
       "      <th>Composure</th>\n",
       "      <th>Marking</th>\n",
       "      <th>StandingTackle</th>\n",
       "      <th>SlidingTackle</th>\n",
       "      <th>GKDiving</th>\n",
       "      <th>GKHandling</th>\n",
       "      <th>GKKicking</th>\n",
       "      <th>GKPositioning</th>\n",
       "      <th>GKReflexes</th>\n",
       "      <th>Release Clause</th>\n",
       "    </tr>\n",
       "  </thead>\n",
       "  <tbody>\n",
       "    <tr>\n",
       "      <td>9</td>\n",
       "      <td>200389</td>\n",
       "      <td>J. Oblak</td>\n",
       "      <td>25</td>\n",
       "      <td>https://cdn.sofifa.org/players/4/19/200389.png</td>\n",
       "      <td>Slovenia</td>\n",
       "      <td>https://cdn.sofifa.org/flags/44.png</td>\n",
       "      <td>90</td>\n",
       "      <td>93</td>\n",
       "      <td>Atlético Madrid</td>\n",
       "      <td>https://cdn.sofifa.org/teams/2/light/240.png</td>\n",
       "      <td>...</td>\n",
       "      <td>70.0</td>\n",
       "      <td>27.0</td>\n",
       "      <td>12.0</td>\n",
       "      <td>18.0</td>\n",
       "      <td>86.0</td>\n",
       "      <td>92.0</td>\n",
       "      <td>78.0</td>\n",
       "      <td>88.0</td>\n",
       "      <td>89.0</td>\n",
       "      <td>144500.0</td>\n",
       "    </tr>\n",
       "    <tr>\n",
       "      <td>8</td>\n",
       "      <td>155862</td>\n",
       "      <td>Sergio Ramos</td>\n",
       "      <td>32</td>\n",
       "      <td>https://cdn.sofifa.org/players/4/19/155862.png</td>\n",
       "      <td>Spain</td>\n",
       "      <td>https://cdn.sofifa.org/flags/45.png</td>\n",
       "      <td>91</td>\n",
       "      <td>91</td>\n",
       "      <td>Real Madrid</td>\n",
       "      <td>https://cdn.sofifa.org/teams/2/light/243.png</td>\n",
       "      <td>...</td>\n",
       "      <td>82.0</td>\n",
       "      <td>87.0</td>\n",
       "      <td>92.0</td>\n",
       "      <td>91.0</td>\n",
       "      <td>11.0</td>\n",
       "      <td>8.0</td>\n",
       "      <td>9.0</td>\n",
       "      <td>7.0</td>\n",
       "      <td>11.0</td>\n",
       "      <td>104600.0</td>\n",
       "    </tr>\n",
       "    <tr>\n",
       "      <td>7</td>\n",
       "      <td>176580</td>\n",
       "      <td>L. Suárez</td>\n",
       "      <td>31</td>\n",
       "      <td>https://cdn.sofifa.org/players/4/19/176580.png</td>\n",
       "      <td>Uruguay</td>\n",
       "      <td>https://cdn.sofifa.org/flags/60.png</td>\n",
       "      <td>91</td>\n",
       "      <td>91</td>\n",
       "      <td>FC Barcelona</td>\n",
       "      <td>https://cdn.sofifa.org/teams/2/light/241.png</td>\n",
       "      <td>...</td>\n",
       "      <td>85.0</td>\n",
       "      <td>62.0</td>\n",
       "      <td>45.0</td>\n",
       "      <td>38.0</td>\n",
       "      <td>27.0</td>\n",
       "      <td>25.0</td>\n",
       "      <td>31.0</td>\n",
       "      <td>33.0</td>\n",
       "      <td>37.0</td>\n",
       "      <td>164000.0</td>\n",
       "    </tr>\n",
       "    <tr>\n",
       "      <td>6</td>\n",
       "      <td>177003</td>\n",
       "      <td>L. Modrić</td>\n",
       "      <td>32</td>\n",
       "      <td>https://cdn.sofifa.org/players/4/19/177003.png</td>\n",
       "      <td>Croatia</td>\n",
       "      <td>https://cdn.sofifa.org/flags/10.png</td>\n",
       "      <td>91</td>\n",
       "      <td>91</td>\n",
       "      <td>Real Madrid</td>\n",
       "      <td>https://cdn.sofifa.org/teams/2/light/243.png</td>\n",
       "      <td>...</td>\n",
       "      <td>84.0</td>\n",
       "      <td>60.0</td>\n",
       "      <td>76.0</td>\n",
       "      <td>73.0</td>\n",
       "      <td>13.0</td>\n",
       "      <td>9.0</td>\n",
       "      <td>7.0</td>\n",
       "      <td>14.0</td>\n",
       "      <td>9.0</td>\n",
       "      <td>137400.0</td>\n",
       "    </tr>\n",
       "    <tr>\n",
       "      <td>5</td>\n",
       "      <td>183277</td>\n",
       "      <td>E. Hazard</td>\n",
       "      <td>27</td>\n",
       "      <td>https://cdn.sofifa.org/players/4/19/183277.png</td>\n",
       "      <td>Belgium</td>\n",
       "      <td>https://cdn.sofifa.org/flags/7.png</td>\n",
       "      <td>91</td>\n",
       "      <td>91</td>\n",
       "      <td>Chelsea</td>\n",
       "      <td>https://cdn.sofifa.org/teams/2/light/5.png</td>\n",
       "      <td>...</td>\n",
       "      <td>91.0</td>\n",
       "      <td>34.0</td>\n",
       "      <td>27.0</td>\n",
       "      <td>22.0</td>\n",
       "      <td>11.0</td>\n",
       "      <td>12.0</td>\n",
       "      <td>6.0</td>\n",
       "      <td>8.0</td>\n",
       "      <td>8.0</td>\n",
       "      <td>172100.0</td>\n",
       "    </tr>\n",
       "    <tr>\n",
       "      <td>4</td>\n",
       "      <td>192985</td>\n",
       "      <td>K. De Bruyne</td>\n",
       "      <td>27</td>\n",
       "      <td>https://cdn.sofifa.org/players/4/19/192985.png</td>\n",
       "      <td>Belgium</td>\n",
       "      <td>https://cdn.sofifa.org/flags/7.png</td>\n",
       "      <td>91</td>\n",
       "      <td>92</td>\n",
       "      <td>Manchester City</td>\n",
       "      <td>https://cdn.sofifa.org/teams/2/light/10.png</td>\n",
       "      <td>...</td>\n",
       "      <td>88.0</td>\n",
       "      <td>68.0</td>\n",
       "      <td>58.0</td>\n",
       "      <td>51.0</td>\n",
       "      <td>15.0</td>\n",
       "      <td>13.0</td>\n",
       "      <td>5.0</td>\n",
       "      <td>10.0</td>\n",
       "      <td>13.0</td>\n",
       "      <td>196400.0</td>\n",
       "    </tr>\n",
       "    <tr>\n",
       "      <td>3</td>\n",
       "      <td>193080</td>\n",
       "      <td>De Gea</td>\n",
       "      <td>27</td>\n",
       "      <td>https://cdn.sofifa.org/players/4/19/193080.png</td>\n",
       "      <td>Spain</td>\n",
       "      <td>https://cdn.sofifa.org/flags/45.png</td>\n",
       "      <td>91</td>\n",
       "      <td>93</td>\n",
       "      <td>Manchester United</td>\n",
       "      <td>https://cdn.sofifa.org/teams/2/light/11.png</td>\n",
       "      <td>...</td>\n",
       "      <td>68.0</td>\n",
       "      <td>15.0</td>\n",
       "      <td>21.0</td>\n",
       "      <td>13.0</td>\n",
       "      <td>90.0</td>\n",
       "      <td>85.0</td>\n",
       "      <td>87.0</td>\n",
       "      <td>88.0</td>\n",
       "      <td>94.0</td>\n",
       "      <td>138600.0</td>\n",
       "    </tr>\n",
       "    <tr>\n",
       "      <td>2</td>\n",
       "      <td>190871</td>\n",
       "      <td>Neymar Jr</td>\n",
       "      <td>26</td>\n",
       "      <td>https://cdn.sofifa.org/players/4/19/190871.png</td>\n",
       "      <td>Brazil</td>\n",
       "      <td>https://cdn.sofifa.org/flags/54.png</td>\n",
       "      <td>92</td>\n",
       "      <td>93</td>\n",
       "      <td>Paris Saint-Germain</td>\n",
       "      <td>https://cdn.sofifa.org/teams/2/light/73.png</td>\n",
       "      <td>...</td>\n",
       "      <td>94.0</td>\n",
       "      <td>27.0</td>\n",
       "      <td>24.0</td>\n",
       "      <td>33.0</td>\n",
       "      <td>9.0</td>\n",
       "      <td>9.0</td>\n",
       "      <td>15.0</td>\n",
       "      <td>15.0</td>\n",
       "      <td>11.0</td>\n",
       "      <td>228100.0</td>\n",
       "    </tr>\n",
       "    <tr>\n",
       "      <td>1</td>\n",
       "      <td>20801</td>\n",
       "      <td>Cristiano Ronaldo</td>\n",
       "      <td>33</td>\n",
       "      <td>https://cdn.sofifa.org/players/4/19/20801.png</td>\n",
       "      <td>Portugal</td>\n",
       "      <td>https://cdn.sofifa.org/flags/38.png</td>\n",
       "      <td>94</td>\n",
       "      <td>94</td>\n",
       "      <td>Juventus</td>\n",
       "      <td>https://cdn.sofifa.org/teams/2/light/45.png</td>\n",
       "      <td>...</td>\n",
       "      <td>95.0</td>\n",
       "      <td>28.0</td>\n",
       "      <td>31.0</td>\n",
       "      <td>23.0</td>\n",
       "      <td>7.0</td>\n",
       "      <td>11.0</td>\n",
       "      <td>15.0</td>\n",
       "      <td>14.0</td>\n",
       "      <td>11.0</td>\n",
       "      <td>127100.0</td>\n",
       "    </tr>\n",
       "    <tr>\n",
       "      <td>0</td>\n",
       "      <td>158023</td>\n",
       "      <td>L. Messi</td>\n",
       "      <td>31</td>\n",
       "      <td>https://cdn.sofifa.org/players/4/19/158023.png</td>\n",
       "      <td>Argentina</td>\n",
       "      <td>https://cdn.sofifa.org/flags/52.png</td>\n",
       "      <td>94</td>\n",
       "      <td>94</td>\n",
       "      <td>FC Barcelona</td>\n",
       "      <td>https://cdn.sofifa.org/teams/2/light/241.png</td>\n",
       "      <td>...</td>\n",
       "      <td>96.0</td>\n",
       "      <td>33.0</td>\n",
       "      <td>28.0</td>\n",
       "      <td>26.0</td>\n",
       "      <td>6.0</td>\n",
       "      <td>11.0</td>\n",
       "      <td>15.0</td>\n",
       "      <td>14.0</td>\n",
       "      <td>8.0</td>\n",
       "      <td>226500.0</td>\n",
       "    </tr>\n",
       "  </tbody>\n",
       "</table>\n",
       "<p>10 rows × 88 columns</p>\n",
       "</div>"
      ],
      "text/plain": [
       "       ID               Name  Age  \\\n",
       "9  200389           J. Oblak   25   \n",
       "8  155862       Sergio Ramos   32   \n",
       "7  176580          L. Suárez   31   \n",
       "6  177003          L. Modrić   32   \n",
       "5  183277          E. Hazard   27   \n",
       "4  192985       K. De Bruyne   27   \n",
       "3  193080             De Gea   27   \n",
       "2  190871          Neymar Jr   26   \n",
       "1   20801  Cristiano Ronaldo   33   \n",
       "0  158023           L. Messi   31   \n",
       "\n",
       "                                            Photo Nationality  \\\n",
       "9  https://cdn.sofifa.org/players/4/19/200389.png    Slovenia   \n",
       "8  https://cdn.sofifa.org/players/4/19/155862.png       Spain   \n",
       "7  https://cdn.sofifa.org/players/4/19/176580.png     Uruguay   \n",
       "6  https://cdn.sofifa.org/players/4/19/177003.png     Croatia   \n",
       "5  https://cdn.sofifa.org/players/4/19/183277.png     Belgium   \n",
       "4  https://cdn.sofifa.org/players/4/19/192985.png     Belgium   \n",
       "3  https://cdn.sofifa.org/players/4/19/193080.png       Spain   \n",
       "2  https://cdn.sofifa.org/players/4/19/190871.png      Brazil   \n",
       "1   https://cdn.sofifa.org/players/4/19/20801.png    Portugal   \n",
       "0  https://cdn.sofifa.org/players/4/19/158023.png   Argentina   \n",
       "\n",
       "                                  Flag  Overall  Potential  \\\n",
       "9  https://cdn.sofifa.org/flags/44.png       90         93   \n",
       "8  https://cdn.sofifa.org/flags/45.png       91         91   \n",
       "7  https://cdn.sofifa.org/flags/60.png       91         91   \n",
       "6  https://cdn.sofifa.org/flags/10.png       91         91   \n",
       "5   https://cdn.sofifa.org/flags/7.png       91         91   \n",
       "4   https://cdn.sofifa.org/flags/7.png       91         92   \n",
       "3  https://cdn.sofifa.org/flags/45.png       91         93   \n",
       "2  https://cdn.sofifa.org/flags/54.png       92         93   \n",
       "1  https://cdn.sofifa.org/flags/38.png       94         94   \n",
       "0  https://cdn.sofifa.org/flags/52.png       94         94   \n",
       "\n",
       "                  Club                                     Club Logo  ...  \\\n",
       "9      Atlético Madrid  https://cdn.sofifa.org/teams/2/light/240.png  ...   \n",
       "8          Real Madrid  https://cdn.sofifa.org/teams/2/light/243.png  ...   \n",
       "7         FC Barcelona  https://cdn.sofifa.org/teams/2/light/241.png  ...   \n",
       "6          Real Madrid  https://cdn.sofifa.org/teams/2/light/243.png  ...   \n",
       "5              Chelsea    https://cdn.sofifa.org/teams/2/light/5.png  ...   \n",
       "4      Manchester City   https://cdn.sofifa.org/teams/2/light/10.png  ...   \n",
       "3    Manchester United   https://cdn.sofifa.org/teams/2/light/11.png  ...   \n",
       "2  Paris Saint-Germain   https://cdn.sofifa.org/teams/2/light/73.png  ...   \n",
       "1             Juventus   https://cdn.sofifa.org/teams/2/light/45.png  ...   \n",
       "0         FC Barcelona  https://cdn.sofifa.org/teams/2/light/241.png  ...   \n",
       "\n",
       "  Composure Marking  StandingTackle SlidingTackle  GKDiving  GKHandling  \\\n",
       "9      70.0    27.0            12.0          18.0      86.0        92.0   \n",
       "8      82.0    87.0            92.0          91.0      11.0         8.0   \n",
       "7      85.0    62.0            45.0          38.0      27.0        25.0   \n",
       "6      84.0    60.0            76.0          73.0      13.0         9.0   \n",
       "5      91.0    34.0            27.0          22.0      11.0        12.0   \n",
       "4      88.0    68.0            58.0          51.0      15.0        13.0   \n",
       "3      68.0    15.0            21.0          13.0      90.0        85.0   \n",
       "2      94.0    27.0            24.0          33.0       9.0         9.0   \n",
       "1      95.0    28.0            31.0          23.0       7.0        11.0   \n",
       "0      96.0    33.0            28.0          26.0       6.0        11.0   \n",
       "\n",
       "   GKKicking GKPositioning GKReflexes Release Clause  \n",
       "9       78.0          88.0       89.0       144500.0  \n",
       "8        9.0           7.0       11.0       104600.0  \n",
       "7       31.0          33.0       37.0       164000.0  \n",
       "6        7.0          14.0        9.0       137400.0  \n",
       "5        6.0           8.0        8.0       172100.0  \n",
       "4        5.0          10.0       13.0       196400.0  \n",
       "3       87.0          88.0       94.0       138600.0  \n",
       "2       15.0          15.0       11.0       228100.0  \n",
       "1       15.0          14.0       11.0       127100.0  \n",
       "0       15.0          14.0        8.0       226500.0  \n",
       "\n",
       "[10 rows x 88 columns]"
      ]
     },
     "execution_count": 29,
     "metadata": {},
     "output_type": "execute_result"
    }
   ],
   "source": [
    "# Code here to get the top 10 countries with the most players\n",
    "df.sort_values('Overall', ascending=True, inplace = True)\n",
    "top_ten = df.tail(10)\n",
    "top_ten.head(10)"
   ]
  },
  {
   "cell_type": "code",
   "execution_count": 33,
   "metadata": {},
   "outputs": [
    {
     "data": {
      "text/plain": [
       "array(['Slovenia', 'Spain', 'Uruguay', 'Croatia', 'Belgium', 'Brazil',\n",
       "       'Portugal', 'Argentina'], dtype=object)"
      ]
     },
     "execution_count": 33,
     "metadata": {},
     "output_type": "execute_result"
    }
   ],
   "source": [
    "pd.unique(top_ten['Nationality'])"
   ]
  },
  {
   "cell_type": "code",
   "execution_count": 44,
   "metadata": {},
   "outputs": [
    {
     "data": {
      "text/plain": [
       "<matplotlib.axes._subplots.AxesSubplot at 0x1a18d96128>"
      ]
     },
     "execution_count": 44,
     "metadata": {},
     "output_type": "execute_result"
    },
    {
     "data": {
      "image/png": "[encoded data removed]",
      "text/plain": [
       "<Figure size 432x288 with 1 Axes>"
      ]
     },
     "metadata": {
      "needs_background": "light"
     },
     "output_type": "display_data"
    }
   ],
   "source": [
    "# Code here to plot a bar chart.  A recommended figsize is (10, 6)\n",
    "vc = top_ten['Nationality'].value_counts()\n",
    "#top_ten['Nationality'].hist()\n",
    "vc.plot('bar')"
   ]
  },
  {
   "cell_type": "code",
   "execution_count": null,
   "metadata": {},
   "outputs": [],
   "source": []
  },
  {
   "cell_type": "markdown",
   "metadata": {},
   "source": [
    "### 2.2) Describe the relationship between `StandingTackle` and `SlidingTackle`, as shown in the scatter plot produced below."
   ]
  },
  {
   "cell_type": "code",
   "execution_count": 45,
   "metadata": {},
   "outputs": [
    {
     "data": {
      "text/plain": [
       "<matplotlib.collections.PathCollection at 0x1a188c2588>"
      ]
     },
     "execution_count": 45,
     "metadata": {},
     "output_type": "execute_result"
    },
    {
     "data": {
      "image/png": "[encoded data removed]",
      "text/plain": [
       "<Figure size 432x288 with 1 Axes>"
      ]
     },
     "metadata": {
      "needs_background": "light"
     },
     "output_type": "display_data"
    }
   ],
   "source": [
    "# Run this cell without changes\n",
    "\n",
    "fig, ax = plt.subplots()\n",
    "\n",
    "ax.set_title('Standing Tackle vs. Sliding Tackle')\n",
    "ax.set_xlabel('Standing Tackle')\n",
    "ax.set_ylabel('Sliding Tackle')\n",
    "\n",
    "x = df['StandingTackle']\n",
    "y = df['SlidingTackle']\n",
    "\n",
    "ax.scatter(x, y)"
   ]
  },
  {
   "cell_type": "markdown",
   "metadata": {},
   "source": [
    "Please describe in words the relationship between these two features."
   ]
  },
  {
   "cell_type": "code",
   "execution_count": null,
   "metadata": {},
   "outputs": [],
   "source": [
    "# Your written answer here\n",
    "Standing Tackle data increases linearly along with Sliding Tackle data. There is nearly a one-to-one correlation. "
   ]
  },
  {
   "cell_type": "markdown",
   "metadata": {},
   "source": [
    "---\n",
    "## Part 3: Exploring Statistical Data [Suggested Time: 20 minutes]\n",
    "---"
   ]
  },
  {
   "cell_type": "markdown",
   "metadata": {},
   "source": [
    "### 3.1) What are the mean age and the median age for the players in this dataset?"
   ]
  },
  {
   "cell_type": "code",
   "execution_count": 50,
   "metadata": {},
   "outputs": [
    {
     "data": {
      "text/plain": [
       "count    16643.000000\n",
       "mean        25.226221\n",
       "std          4.716588\n",
       "min         16.000000\n",
       "25%         21.000000\n",
       "50%         25.000000\n",
       "75%         29.000000\n",
       "max         45.000000\n",
       "Name: Age, dtype: float64"
      ]
     },
     "execution_count": 50,
     "metadata": {},
     "output_type": "execute_result"
    }
   ],
   "source": [
    "# Code here to find the mean age and median age\n",
    "df['Age'].describe()"
   ]
  },
  {
   "cell_type": "markdown",
   "metadata": {},
   "source": [
    "In your own words, how are the mean and median related to each other and what do these values tell us about the distribution of the column `'Age'`? "
   ]
  },
  {
   "cell_type": "code",
   "execution_count": null,
   "metadata": {},
   "outputs": [],
   "source": [
    "# Your written answer here\n",
    "The mean and median are very close indicating that all  players are close in age, with little to no outliers. \n",
    "This shows that most players are between the ages 20-30. "
   ]
  },
  {
   "cell_type": "markdown",
   "metadata": {},
   "source": [
    "### 3.2) Who is the oldest player from Argentina and how old is he?\n",
    "Use the `Nationality` column."
   ]
  },
  {
   "cell_type": "code",
   "execution_count": 59,
   "metadata": {},
   "outputs": [
    {
     "data": {
      "text/plain": [
       "45"
      ]
     },
     "execution_count": 59,
     "metadata": {},
     "output_type": "execute_result"
    }
   ],
   "source": [
    "# Code here to find the oldest player in Argentina\n",
    "df['Age'].max()"
   ]
  },
  {
   "cell_type": "code",
   "execution_count": null,
   "metadata": {},
   "outputs": [],
   "source": [
    "# Your written answer here"
   ]
  },
  {
   "cell_type": "markdown",
   "metadata": {},
   "source": [
    "---\n",
    "## Part 4: Python Data Structures [Suggested Time: 20 min]\n",
    "---"
   ]
  },
  {
   "cell_type": "markdown",
   "metadata": {},
   "source": [
    "In this final section, we will work with various Python data types and try to accomplish certain tasks using some fundamental data structures in Python, rather than using Pandas DataFrames. Below, we've defined a dictionary with soccer player names as keys for nested dictionaries containing information about each player's age, nationality, and a list of teams they have played for."
   ]
  },
  {
   "cell_type": "code",
   "execution_count": 60,
   "metadata": {},
   "outputs": [],
   "source": [
    "# Run this cell without changes\n",
    "\n",
    "players = {\n",
    "    'L. Messi': {\n",
    "        'age': 31,\n",
    "        'nationality': 'Argentina',\n",
    "        'teams': ['Barcelona']\n",
    "    },\n",
    "    'Cristiano Ronaldo': {\n",
    "        'age': 33,\n",
    "        'nationality': 'Portugal',\n",
    "        'teams': ['Juventus', 'Real Madrid', 'Manchester United']\n",
    "    },\n",
    "    'Neymar Jr': {\n",
    "        'age': 26,\n",
    "        'nationality': 'Brazil',\n",
    "        'teams': ['Santos', 'Barcelona', 'Paris Saint-German']\n",
    "    },\n",
    "    'De Gea': {\n",
    "        'age': 27,\n",
    "        'nationality': 'Spain',\n",
    "        'teams': ['Atletico Madrid', 'Manchester United']\n",
    "    },\n",
    "    'K. De Bruyne': {\n",
    "        'age': 27,\n",
    "        'nationality': 'Belgium',\n",
    "        'teams': ['Chelsea', 'Manchester City']\n",
    "    }\n",
    "}"
   ]
  },
  {
   "cell_type": "markdown",
   "metadata": {},
   "source": [
    "### 4.1) Create a `list` of all the keys in the `players` dictionary. Store the list of player names in a variable called `player_names` to use in the next question.\n",
    "\n",
    "Use [Python's documentation on dictionaries](https://docs.python.org/3/tutorial/datastructures.html#dictionaries) for help if needed. "
   ]
  },
  {
   "cell_type": "code",
   "execution_count": 64,
   "metadata": {},
   "outputs": [],
   "source": [
    "# Replace None with appropriate code to get the list of all player names\n",
    "\n",
    "player_names = []\n",
    "for p in players.keys():\n",
    "    player_names.append(p)\n",
    "    "
   ]
  },
  {
   "cell_type": "code",
   "execution_count": 65,
   "metadata": {},
   "outputs": [
    {
     "name": "stdout",
     "output_type": "stream",
     "text": [
      "['L. Messi', 'Cristiano Ronaldo', 'Neymar Jr', 'De Gea', 'K. De Bruyne']\n"
     ]
    }
   ],
   "source": [
    "# Run this cell without changes to check your answer\n",
    "\n",
    "print(player_names)"
   ]
  },
  {
   "cell_type": "markdown",
   "metadata": {},
   "source": [
    "### 4.2) Great! Now that we have the names of all players, let's use that information to create a `list` of `tuples` containing each player's name along with their nationality. Store the list in a variable called `player_nationalities`."
   ]
  },
  {
   "cell_type": "code",
   "execution_count": 80,
   "metadata": {},
   "outputs": [],
   "source": [
    "# Replace None with appropriate code to generate list of tuples such that \n",
    "# the first element is a players name and the second is their nationality \n",
    "# Ex: [('L. Messi', 'Argentina'), ('Christiano Ronaldo', 'Portugal'), ...]\n",
    "\n",
    "player_nationalities = []\n",
    "for value1 in players.items():\n",
    "    player_nationalities.append()"
   ]
  },
  {
   "cell_type": "code",
   "execution_count": 81,
   "metadata": {},
   "outputs": [
    {
     "name": "stdout",
     "output_type": "stream",
     "text": [
      "[('L. Messi', {'age': 31, 'nationality': 'Argentina', 'teams': ['Barcelona']}), ('Cristiano Ronaldo', {'age': 33, 'nationality': 'Portugal', 'teams': ['Juventus', 'Real Madrid', 'Manchester United']}), ('Neymar Jr', {'age': 26, 'nationality': 'Brazil', 'teams': ['Santos', 'Barcelona', 'Paris Saint-German']}), ('De Gea', {'age': 27, 'nationality': 'Spain', 'teams': ['Atletico Madrid', 'Manchester United']}), ('K. De Bruyne', {'age': 27, 'nationality': 'Belgium', 'teams': ['Chelsea', 'Manchester City']})]\n"
     ]
    }
   ],
   "source": [
    "# Run this cell without changes to check your answer\n",
    "\n",
    "print(player_nationalities)"
   ]
  },
  {
   "cell_type": "markdown",
   "metadata": {},
   "source": [
    "### 4.3) Define a function called `get_players_on_team()` that returns a `list` of the names of all the players who have played on a given team.\n",
    "\n",
    "Your function should take two arguments: \n",
    "\n",
    "- a dictionary of player information\n",
    "- the team name (as a `string`) you are trying to find the players for \n",
    "\n",
    "**Be sure that your function has a `return` statement.**"
   ]
  },
  {
   "cell_type": "code",
   "execution_count": 102,
   "metadata": {},
   "outputs": [],
   "source": [
    "# Code here to define your get_players_on_team() function \n",
    "def get_players_on_team(players, team):\n",
    "    list_1=[]\n",
    "    for p in players.items():\n",
    "        for t in ['teams']:\n",
    "            return  p, t\n",
    "        "
   ]
  },
  {
   "cell_type": "code",
   "execution_count": 103,
   "metadata": {},
   "outputs": [
    {
     "name": "stdout",
     "output_type": "stream",
     "text": [
      "(('L. Messi', {'age': 31, 'nationality': 'Argentina', 'teams': ['Barcelona']}), 'teams')\n"
     ]
    }
   ],
   "source": [
    "# Run this cell without changes to check your answer\n",
    "\n",
    "players_on_manchester_united = get_players_on_team(players, 'Manchester United')\n",
    "print(players_on_manchester_united)"
   ]
  },
  {
   "cell_type": "code",
   "execution_count": null,
   "metadata": {},
   "outputs": [],
   "source": []
  }
 ],
 "metadata": {
  "kernelspec": {
   "display_name": "Python 3",
   "language": "python",
   "name": "python3"
  },
  "language_info": {
   "codemirror_mode": {
    "name": "ipython",
    "version": 3
   },
   "file_extension": ".py",
   "mimetype": "text/x-python",
   "name": "python",
   "nbconvert_exporter": "python",
   "pygments_lexer": "ipython3",
   "version": "3.6.9"
  }
 },
 "nbformat": 4,
 "nbformat_minor": 4
}
